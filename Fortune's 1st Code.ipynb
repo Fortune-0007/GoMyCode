{
 "cells": [
  {
   "cell_type": "code",
   "execution_count": 9,
   "id": "9049ba64",
   "metadata": {},
   "outputs": [
    {
     "name": "stdout",
     "output_type": "stream",
     "text": [
      "Welcome to Python Pizza Deliveries\n"
     ]
    }
   ],
   "source": [
    "# Welcome message\n",
    "print(\"Welcome to Python Pizza Deliveries\")"
   ]
  },
  {
   "cell_type": "code",
   "execution_count": 6,
   "id": "d76b5ebb",
   "metadata": {},
   "outputs": [
    {
     "name": "stdout",
     "output_type": "stream",
     "text": [
      "What size pizza do you want? (Small/Medium/Large): Large\n",
      "Do you want to add pepperoni? (Yes/No): Yes\n",
      "Do you want extra cheese? (Yes/No): No\n"
     ]
    }
   ],
   "source": [
    "# Prompt for Pizza size and toppings\n",
    "size = input(\"What size pizza do you want? (Small/Medium/Large): \").lower()\n",
    "add_pepperoni = input(\"Do you want to add pepperoni? (Yes/No): \").lower\n",
    "extra_cheese = input(\"Do you want extra cheese? (Yes/No): \").lower"
   ]
  },
  {
   "cell_type": "code",
   "execution_count": 3,
   "id": "b8abb68d",
   "metadata": {},
   "outputs": [],
   "source": [
    "# Define Pizza prices\n",
    "pizza_prices = {\"small\": 15, \"medium\": 20, \"large\": 25}\n",
    "topping_prices = {\"pepperoni\": 2, \"extra cheese\": 1}"
   ]
  },
  {
   "cell_type": "code",
   "execution_count": 7,
   "id": "9f80b801",
   "metadata": {},
   "outputs": [],
   "source": [
    "# Calculate the total cost based on user's choices\n",
    "total_cost = pizza_prices.get(size, 0)\n",
    "if add_pepperoni == \"yes\":\n",
    "    total_cost += topping_prices[\"pepperoni\"]\n",
    "if extra_cheese == \"yes\":\n",
    "    total_cost += topping_prices[\"extra cheese\"]"
   ]
  },
  {
   "cell_type": "code",
   "execution_count": 8,
   "id": "569c0b55",
   "metadata": {},
   "outputs": [
    {
     "name": "stdout",
     "output_type": "stream",
     "text": [
      "Your total bill is: $25\n"
     ]
    }
   ],
   "source": [
    "# Display the final bill\n",
    "print (f\"Your total bill is: ${total_cost}\")"
   ]
  },
  {
   "cell_type": "code",
   "execution_count": null,
   "id": "fa3cac60",
   "metadata": {},
   "outputs": [],
   "source": []
  }
 ],
 "metadata": {
  "kernelspec": {
   "display_name": "Python 3 (ipykernel)",
   "language": "python",
   "name": "python3"
  },
  "language_info": {
   "codemirror_mode": {
    "name": "ipython",
    "version": 3
   },
   "file_extension": ".py",
   "mimetype": "text/x-python",
   "name": "python",
   "nbconvert_exporter": "python",
   "pygments_lexer": "ipython3",
   "version": "3.11.5"
  }
 },
 "nbformat": 4,
 "nbformat_minor": 5
}
