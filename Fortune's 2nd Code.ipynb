{
 "cells": [
  {
   "cell_type": "code",
   "execution_count": 1,
   "id": "6fd95e7a",
   "metadata": {},
   "outputs": [
    {
     "name": "stdout",
     "output_type": "stream",
     "text": [
      "\n",
      "Shopping List Menu:\n",
      "1. Add Item\n",
      "2. Remove Item\n",
      "3. View List\n",
      "4. Exit\n",
      "Enter your choice (1-4): 1\n",
      "Enter the item to add: 3\n",
      "3 has been added to the shopping list.\n",
      "\n",
      "Shopping List Menu:\n",
      "1. Add Item\n",
      "2. Remove Item\n",
      "3. View List\n",
      "4. Exit\n",
      "Enter your choice (1-4): 2\n",
      "Enter the item to remove: 4\n",
      "4 is not in the shopping list.\n",
      "\n",
      "Shopping List Menu:\n",
      "1. Add Item\n",
      "2. Remove Item\n",
      "3. View List\n",
      "4. Exit\n",
      "Enter your choice (1-4): 4\n",
      "Exiting the program. Goodbye!\n"
     ]
    }
   ],
   "source": [
    "shopping_list = []\n",
    "\n",
    "while True:\n",
    "    print(\"\\nShopping List Menu:\")\n",
    "    print(\"1. Add Item\")\n",
    "    print(\"2. Remove Item\")\n",
    "    print(\"3. View List\")\n",
    "    print(\"4. Exit\")\n",
    "\n",
    "    choice = input(\"Enter your choice (1-4): \")\n",
    "\n",
    "    if choice == '1':\n",
    "        if len(shopping_list) < 5:\n",
    "            item = input(\"Enter the item to add: \")\n",
    "            shopping_list.append(item)\n",
    "            print(f\"{item} has been added to the shopping list.\")\n",
    "        else:\n",
    "            print(\"Sorry, the shopping list is full. Remove items to add more.\")\n",
    "\n",
    "    elif choice == '2':\n",
    "        if shopping_list:\n",
    "            item_to_remove = input(\"Enter the item to remove: \")\n",
    "            if item_to_remove in shopping_list:\n",
    "                shopping_list.remove(item_to_remove)\n",
    "                print(f\"{item_to_remove} has been removed from the shopping list.\")\n",
    "            else:\n",
    "                print(f\"{item_to_remove} is not in the shopping list.\")\n",
    "        else:\n",
    "            print(\"The shopping list is empty. Nothing to remove.\")\n",
    "\n",
    "    elif choice == '3':\n",
    "        if shopping_list:\n",
    "            print(\"\\nCurrent Shopping List:\")\n",
    "            for item in shopping_list:\n",
    "                print(item)\n",
    "        else:\n",
    "            print(\"The shopping list is empty.\")\n",
    "\n",
    "    elif choice == '4':\n",
    "        print(\"Exiting the program. Goodbye!\")\n",
    "        break\n",
    "\n",
    "    else:\n",
    "        print(\"Invalid choice. Please enter a number between 1 and 4.\")"
   ]
  },
  {
   "cell_type": "code",
   "execution_count": 2,
   "id": "dc45e47e",
   "metadata": {},
   "outputs": [
    {
     "ename": "SyntaxError",
     "evalue": "expected ':' (4247377167.py, line 1)",
     "output_type": "error",
     "traceback": [
      "\u001b[1;36m  Cell \u001b[1;32mIn[2], line 1\u001b[1;36m\u001b[0m\n\u001b[1;33m    def greetings()\u001b[0m\n\u001b[1;37m                   ^\u001b[0m\n\u001b[1;31mSyntaxError\u001b[0m\u001b[1;31m:\u001b[0m expected ':'\n"
     ]
    }
   ],
   "source": [
    "def greetings()\n",
    "   print(\"hello there\")\n",
    "greetings()"
   ]
  },
  {
   "cell_type": "code",
   "execution_count": 3,
   "id": "d5d2a901",
   "metadata": {},
   "outputs": [
    {
     "name": "stdout",
     "output_type": "stream",
     "text": [
      "25 is higher than 5\n"
     ]
    }
   ],
   "source": [
    "def test_5(a):\n",
    "    if a < 5 :\n",
    "        print(a,\"is lower than 5\")\n",
    "    elif a == 5:\n",
    "        print(a,\"is equal to 5\")\n",
    "    else:\n",
    "        print(a,'is higher than 5')\n",
    "test_5(25) "
   ]
  },
  {
   "cell_type": "code",
   "execution_count": 4,
   "id": "c31c3331",
   "metadata": {},
   "outputs": [
    {
     "ename": "IndentationError",
     "evalue": "unexpected indent (1507980215.py, line 5)",
     "output_type": "error",
     "traceback": [
      "\u001b[1;36m  Cell \u001b[1;32mIn[4], line 5\u001b[1;36m\u001b[0m\n\u001b[1;33m    return # write here the returned value of the function\u001b[0m\n\u001b[1;37m    ^\u001b[0m\n\u001b[1;31mIndentationError\u001b[0m\u001b[1;31m:\u001b[0m unexpected indent\n"
     ]
    }
   ],
   "source": [
    "# change the function parameters if you need \n",
    "def test(a,b):\n",
    "  x = int(a)\n",
    "  y = int(b)\n",
    "    return # write here the returned value of the function"
   ]
  },
  {
   "cell_type": "code",
   "execution_count": null,
   "id": "da61cb80",
   "metadata": {},
   "outputs": [],
   "source": []
  }
 ],
 "metadata": {
  "kernelspec": {
   "display_name": "Python 3 (ipykernel)",
   "language": "python",
   "name": "python3"
  },
  "language_info": {
   "codemirror_mode": {
    "name": "ipython",
    "version": 3
   },
   "file_extension": ".py",
   "mimetype": "text/x-python",
   "name": "python",
   "nbconvert_exporter": "python",
   "pygments_lexer": "ipython3",
   "version": "3.11.5"
  }
 },
 "nbformat": 4,
 "nbformat_minor": 5
}
